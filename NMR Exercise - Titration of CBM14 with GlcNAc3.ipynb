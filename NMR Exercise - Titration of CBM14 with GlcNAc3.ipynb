{
 "cells": [
  {
   "cell_type": "markdown",
   "metadata": {},
   "source": [
    "\n",
    "# NMR Exercise - Titration of CBM14 with GlcNAc3\n",
    "\n",
    "## Requirements\n",
    "Before starting this exercise, you will need to install the following software:\n",
    "* PyMOL (all OS): https://pymol.org/2/\n",
    "* CARA: http://www.cara.nmr-software.org/downloads/ (for Windows, version 1.5.5 is the most stable)\n",
    "\n",
    "## Introduction\n",
    "\n",
    "This is a Jupyter Notebook, and it is a way to run python code in an interactive way. To execute the code in each cell, just press `Shift + Enter`.\n",
    "\n",
    "In this exercise you will learn how to calculate the dissociation constant ($K_d$) for a ligand-protein complex, from a series of NMR spectra (15N-HSQC) recorded at different ligand concentrations.\n",
    "\n",
    "**The protein (left):** Carbohydrate-Binding Module 14 (CBM14) from Human macrophage chitotriosidase (PDB ID: 6SO0) [1,2]\n",
    "\n",
    "\n",
    "**The ligand (right):** Chitotriose (GlcNAc3)\n",
    "\n",
    "![image](images/prot-lig2.png)\n",
    "\n",
    "\n",
    "#### Kd from chemical shift perturbations\n",
    "We assume a a two-state process where a ligand ($L$) and protein ($P$) interact to form a complex ($PL$).\n",
    "![image](images/2state.png?1)\n",
    "\n",
    "At $L=0 mM$, $P=total protein conc.$ and $PL=0 mM$. If we measure the chemical shift of a peak in the 15N-HSQC spectrum, its coordinates would be ($\\delta$$H_{0mM}$, $\\delta$$N_{0mM}$).\n",
    "\n",
    "If we add some ligand $L=0.5 mM$ and we are on fast-exchange regime, the chemical shift of the peak will change to new coordinates ($\\delta$$H_{0.5mM}$, $\\delta$$N_{0.5mM}$).\n",
    "\n",
    "![image](images/csp2.png?1)\n",
    "\n",
    "Now we can calculate the combined chemical shift perturbation of the peak at $L=0.5 mM$ by the using Pythagoras equation:\n",
    "## $\\Delta \\delta_{comb} = \\sqrt{(\\Delta \\delta H)^2 + (\\frac{\\Delta \\delta N}{R_{scale}})^2}$\n",
    "\n",
    "where $\\Delta \\delta H = \\delta H_{0.5mM} - \\delta H_{0mM}$, $\\Delta \\delta N = \\delta N_{0.5mM} - \\delta N_{0mM}$ and $R_{scale}=6.5$ [3]. At each titration point, we repeat this process to obtain $\\Delta \\delta_{comb}$ for each $[L]$.\n",
    "\n",
    "Then we can fit the following equation to the data by varying the parameters $K_d$ and $Q_{max}$ (equal to $\\Delta \\delta_{comb}$ at saturation).\n",
    "\n",
    "## $\\Delta \\delta_{comb}  = Q_{max} \\frac{ [P] + [L] + K_d \\pm \\sqrt{([P]+[L]+K_d)^2 -4[P][L]} }{2[P]}$\n",
    "\n",
    "#### References\n",
    "[1] Crasson\n",
    "[2] Eva\n",
    "[3] Mulder"
   ]
  },
  {
   "attachments": {},
   "cell_type": "markdown",
   "metadata": {},
   "source": [
    "## Step 1 - Getting started\n",
    "\n",
    "1. Open CARA\n",
    "2. `File > Open` and choose the file `cbm14_GlcNAc3.cara`\n",
    "![image.png](images/cara1.png)\n",
    "3. Click on `Systems` and on the `Ass` column to see the sorted NMR assignments for the protein.\n",
    "![image.png](images/cara2.png)\n",
    "4. Click on `Spectra` to see a list of the available spectra. As you see here, we only have 15N-HSQCs, each one for every $[L]$ in the titration.\n",
    "\n",
    "| experiment | $[L]$ |\n",
    "|------|---|\n",
    "|15N-HSQC_106 |   0 mM |\n",
    "|15N-HSQC_115  |  1.0 mM |\n",
    "|15N-HSQC_124  |  6.3 mM |\n",
    "|15N-HSQC_130  |  17.1 mM |\n",
    "|15N-HSQC_133  |  25.0 mM |\n",
    "\n",
    "5. Go ahead and open `15N-HSQC_106` by right-clicking on it and choosing `Open Polyscope...`\n",
    "![image.png](images/cara4.png)\n",
    "![image.png](images/cara5.png)\n",
    "6. Whoa, that looks messy! We need to reduce the contour levels. You can do this by clicking `Plane > Set Contour Parameters...`. Set the parameters Factor: 1.4, Threshold: 45000 and Option:Both and click OK.\n",
    "7. Much better, now we can zoom in a region by simulatenously holding down `Ctrl+Shift` while clicking-and-dragging with the left-button of the mouse. If you click one of the peaks you will see the $^{15}N$ projection as the y-axis and $^1 H$ projection as the x-axis. In the status bar below, you can read off the corresponding chemical shifts for both dimensions.\n",
    "![image.png](images/cara6.png)\n",
    "8. If we zoom even more, we can see the contours of the peaks. This is very useful for detecting small changes in chemical shifts, as we will do later. To zoom out again, right-click somewhere on the spectrum and select `Fit Window` or use the keyboard shortcut `Ctrl+Home`.\n",
    "![image.png](images/cara7.png)\n",
    "\n",
    "Make sure you are comfortable with zooming in and out of spectra and changing contour levels before proceeding to Step 2."
   ]
  },
  {
   "cell_type": "markdown",
   "metadata": {},
   "source": [
    "## Step 2 - Visualizing several spectra"
   ]
  },
  {
   "cell_type": "code",
   "execution_count": null,
   "metadata": {},
   "outputs": [],
   "source": []
  }
 ],
 "metadata": {
  "kernelspec": {
   "display_name": "Python 3",
   "language": "python",
   "name": "python3"
  },
  "language_info": {
   "codemirror_mode": {
    "name": "ipython",
    "version": 3
   },
   "file_extension": ".py",
   "mimetype": "text/x-python",
   "name": "python",
   "nbconvert_exporter": "python",
   "pygments_lexer": "ipython3",
   "version": "3.7.6"
  }
 },
 "nbformat": 4,
 "nbformat_minor": 4
}
