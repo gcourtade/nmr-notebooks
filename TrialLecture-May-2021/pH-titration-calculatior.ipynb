{
 "cells": [
  {
   "attachments": {
    "image.png": {
     "image/png": "[encoded data removed]"
    }
   },
   "cell_type": "markdown",
   "metadata": {},
   "source": [
    "### pH titration\n",
    "\n",
    "The following script uses the Henderson-Hasselbalch equation to calculate and plot the protonated fraction (0.0-1.0)  of a titratable group with a certain `pKa` value as a function of pH. Different titration curves can be calculated by changing the `pka` variable in the code below.\n",
    "\n",
    "Remember to execute each cell by clicking the \"Run\" button ![image.png](attachment:image.png)"
   ]
  },
  {
   "cell_type": "code",
   "execution_count": null,
   "metadata": {},
   "outputs": [],
   "source": [
    "# First we import necessary packages\n",
    "import numpy as np\n",
    "import matplotlib.pyplot as plt"
   ]
  },
  {
   "cell_type": "code",
   "execution_count": null,
   "metadata": {},
   "outputs": [],
   "source": [
    "# This is form of the Henderson-Hasselbalch equation calculates the protonation degree\n",
    "# at different pH values, for a given pKa value\n",
    "def HH(pH,pKa):\n",
    "    return 1 - 10**(pH-pKa)/(1+10**(pH-pKa))"
   ]
  },
  {
   "cell_type": "code",
   "execution_count": null,
   "metadata": {},
   "outputs": [],
   "source": [
    "# Here we define the pKa value\n",
    "pKa = 6.5\n",
    "\n",
    "# Create the pH scale from 0 to 14, with 50 linearly spaced pH values\n",
    "pH = np.linspace(0,14,num=50)\n",
    "\n",
    "# And we plot pH vs protonation degree\n",
    "plt.plot(pH,HH(pH,pKa), label=\"Titration curve\" )\n",
    "plt.vlines(pKa,-0.05,1.05,color='k',linestyles='dashed',alpha=0.8, label='pKa')\n",
    "plt.ylim(-0.05,1.05)\n",
    "plt.xlim(0,14)\n",
    "plt.xlabel('pH', fontsize=14)\n",
    "plt.ylabel('Protonated fraction', fontsize=14)\n",
    "plt.tight_layout()\n",
    "plt.legend()\n",
    "plt.grid()\n",
    "plt.show()"
   ]
  },
  {
   "cell_type": "markdown",
   "metadata": {},
   "source": [
    "The titration curve above allows tells us something about the charge of a single titratable group at different pH's. However, when forming DNA nanoparticles with a positively charged polysaccharide, there are two components:\n",
    "1. The amine group of chitosan or spermine\n",
    "2. The phosphate group of DNA\n",
    "\n",
    "Therefore, we need to take both of them into account and plot the ratio between the positive charge to negative charge in order to find the pH range that gives us the optimal ratio of 0.35-0.8. The script below does exactly this. You can change the `pKa_amine` varialbe to see what the positive-to-negative charge ratio would be for another amine."
   ]
  },
  {
   "cell_type": "code",
   "execution_count": null,
   "metadata": {},
   "outputs": [],
   "source": [
    "# Here we define the pKa values\n",
    "# pKa_DNA is the pkA value for DNA\n",
    "# pka_amine is the pKa value for the amine (chitosan, spermine, etc.)\n",
    "pKa_DNA = 2.0\n",
    "pKa_amine = 6.5\n",
    "\n",
    "# Here the amount of negative and positive charge for each component are calculated\n",
    "DNA_neg = 1 - HH(pH,pKa_DNA)\n",
    "amine_pos = HH(pH,pKa_amine)\n",
    "\n",
    "# And we plot pH vs positive/negative ratio\n",
    "plt.plot(pH,amine_pos/DNA_neg)\n",
    "plt.hlines(0.35,0,14,color='k',linestyles='dashed',alpha=0.8)\n",
    "plt.hlines(0.80,0,14,color='k',linestyles='dashed',alpha=0.8)\n",
    "plt.ylim(-0.05,1.05)\n",
    "plt.xlim(0,14)\n",
    "plt.xlabel('pH', fontsize=14)\n",
    "plt.ylabel('[NH$_3^+$]/[PO$_4^-$]', fontsize=14)\n",
    "plt.tight_layout()\n",
    "plt.grid()\n",
    "plt.show()\n",
    "\n",
    "# Find the pH range that where the positive/negative ratio is between 0.35 and 0.8\n",
    "x = np.where((amine_pos/DNA_neg > 0.35) & (amine_pos/DNA_neg < 0.8), pH, np.nan)\n",
    "x = x[~np.isnan(x)]\n",
    "print('The nanoparticles will likely be stable at pH = {:.1f}-{:.1f}'.format(x[0],x[-1]))"
   ]
  }
 ],
 "metadata": {
  "kernelspec": {
   "display_name": "Python 3",
   "language": "python",
   "name": "python3"
  },
  "language_info": {
   "codemirror_mode": {
    "name": "ipython",
    "version": 3
   },
   "file_extension": ".py",
   "mimetype": "text/x-python",
   "name": "python",
   "nbconvert_exporter": "python",
   "pygments_lexer": "ipython3",
   "version": "3.8.10"
  }
 },
 "nbformat": 4,
 "nbformat_minor": 2
}
