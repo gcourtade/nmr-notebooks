{
 "cells": [
  {
   "attachments": {
    "image.png": {
     "image/png": "[encoded data removed]"
    }
   },
   "cell_type": "markdown",
   "id": "literary-template",
   "metadata": {},
   "source": [
    "## Jupyter Notebook\n",
    "\n",
    "This is a Python Jupyter Notebook. It allows to execute code as well as intereactive content like images, plots and molecule visualization. To use this notebook, you can execute the code on each \"cell\" by clicking the \"Run\" button: ![image.png](attachment:image.png)"
   ]
  },
  {
   "attachments": {},
   "cell_type": "markdown",
   "id": "heated-diagnosis",
   "metadata": {},
   "source": [
    "# Polysaccharides\n",
    "\n",
    "In order to follow this lecture, basic knowledge of carbohydrates (e.g. from a subject like **TBT4102 Biochemistry 1**) is required. In preparation for this lecture, you can refresh your knowledge here https://courses.lumenlearning.com/ivytech-bio1-1/chapter/reading-types-of-carbohydrates/. Below, key concepts are briefly reviewed.\n",
    "\n",
    "Polysaccharides (poly=many; saccharides=sugars) are polymers of monosaccharides. In nature, monosaccharides like glucose are bound together by enzymes, forming  sugar polymers, or polysaccharides. Polysaccharides may be branched or linear, charged or uncharged, and may be composed of one, two, or several different monosaccharides. The molecular weight of a polysaccharide may be on the order of 1000-100,000 Da (g/mol) depending on the monosaccharide residues. \n",
    "\n",
    "<img src='figure_07_12.jpg' width=400/>\n",
    "\n",
    "\n",
    "Depending on how the -OH on C5 attacks (red arrow) the C1 carbonyl group (from the top or from the bottom) during the sugar ring formation of e.g. glucose, two **anomers**, $\\alpha$ or $\\beta$, of the hemiacetal may be produced. As long as the hemiacetal is not part of a glycosidic bond, this process is reversible. In polysaccharides, the hemiacetal end is  called the **reducing end**. This is important because, as we will see later, polysaccharides of different anomers have different structures and functional properties.\n",
    "\n",
    "<img src='figure_07_06.jpg' width=400/>\n",
    "\n",
    "Two monosaccharides can be joined together via a **glycosidic bond** between an anomeric carbon and a hydroxyl carbon to form a disaccharide. Disacharides can be named by their anomeric form and linkage or a common name. For example, the disaccharide maltose is formed by joining two glucose units. The —OH (alcohol) attached to C4 of one glucose molecule (right) condenses with the  hemiacetal (anomeric carbon) of the other $\\alpha$-D-glucose molecule (left), with elimination of $H_{2}O$ and formation of a 1&rarr;4 glycosidic bond. The reversal of this reaction is hydrolysis: attack by $H_{2}O$ on the glycosidic bond. Note that the sugar on the right \n",
    "\n",
    "<img src='figure_07_10.jpg' width=400/>\n",
    "\n",
    "You can use this notebook to familiarize yourself with examples of five polysaccharides: amylose, dextran, cellulose and chitin."
   ]
  },
  {
   "cell_type": "markdown",
   "id": "special-above",
   "metadata": {},
   "source": [
    "### Amylose \n",
    "\n",
    "Amylose is linear, uncharged, homopolymer polymer composed of $\\alpha$(1&rarr;4)-bound glucose units. This type of bond between the glucose units gives amylose a helical structure\n",
    "\n",
    "\n",
    "<img src='figure_07_13a.jpg' width=600/>\n",
    "\n",
    "The natural function of amylose is energy storage in plants in the form of starch (together with the polysaccharide amylopectin). Starch is stored in for example roots and seeds. The helical structure allows for high compaction of the sugar chain, minimizing the space needed by the plant cell to store energy. When consumed by animals and humans, starch is broken down by enzymes ($\\alpha$-amylases).\n",
    "\n",
    "Industrially and in food applications, amylose is used as a thickener, water binder, emulsion stabilizer, and gelling agent.\n",
    "\n",
    "*Execute the code in the cell below to see an interactive 3D model of a short amylose chain*"
   ]
  },
  {
   "cell_type": "code",
   "execution_count": 2,
   "id": "adjusted-cisco",
   "metadata": {},
   "outputs": [
    {
     "data": {
      "application/vnd.jupyter.widget-view+json": {
       "model_id": "500b6cf7e3a147449f5987a9ed61fccb",
       "version_major": 2,
       "version_minor": 0
      },
      "text/plain": [
       "NGLWidget()"
      ]
     },
     "metadata": {},
     "output_type": "display_data"
    }
   ],
   "source": [
    "import nglview\n",
    "amylose = nglview.show_file(\"amylose.pdb\")\n",
    "amylose.add_surface(opacity=0.1)\n",
    "amylose"
   ]
  },
  {
   "cell_type": "markdown",
   "id": "valuable-vacation",
   "metadata": {},
   "source": [
    "### Dextran \n",
    "\n",
    "Dextran is a branched, uncharged homopolymer of glucose. Its backbone is composed of ca. 95% $\\alpha$(1&rarr;6) linkages, with $\\alpha$(1&rarr;3) branches. \n",
    "\n",
    "<img src='specific-rotation.jpg' width=400/>\n",
    "\n",
    "In bacteria, dextran is a structural polysaccharide and it also acts an as an extracellular \"glue\". Industrially, dextran has several biomedical applications as plasma extenders to prevent post-operative blood clots, and to enhance the precipitation of antibody-antigen complexes in immuno-diffusion applications, among others.\n",
    "\n",
    "*Execute the code in the cell below to see an interactive 3D model of a short dextran chain with single residue branches*"
   ]
  },
  {
   "cell_type": "code",
   "execution_count": 3,
   "id": "short-burner",
   "metadata": {},
   "outputs": [
    {
     "data": {
      "application/vnd.jupyter.widget-view+json": {
       "model_id": "f216c35c0e0741cdb0da638e6e87e78e",
       "version_major": 2,
       "version_minor": 0
      },
      "text/plain": [
       "NGLWidget()"
      ]
     },
     "metadata": {},
     "output_type": "display_data"
    }
   ],
   "source": [
    "dextran = nglview.show_file(\"dextran.pdb\")\n",
    "dextran.add_surface(opacity=0.1)\n",
    "dextran"
   ]
  },
  {
   "attachments": {},
   "cell_type": "markdown",
   "id": "announced-jenny",
   "metadata": {},
   "source": [
    "### Cellulose \n",
    "\n",
    "Cellulose is a linear, uncharged homopolysaccharide of $\\beta$(1&rarr;4)-linked glucose units. Hydrogen bonds between adjacent monomers and additional hydrogen bonds between individual cellulose chains results in a tough and water insoluble structure.\n",
    "\n",
    "<img src='cellulose.jpg' width=500/>\n",
    "\n",
    "Cellulose is synthesized by plants, algae and some bacteria, and is the most abundant polysaccharide in nature. It has a key structural role in stabilizing the cell walls of plants and in biofilm formation in bacteria.\n",
    "\n",
    "Engineering applications of cellulose are plentiful and diverse. These include manufacturing of clothing (cotton is nearly pure fibrous cellulose) and paper, as a substrate for second generation bioethanol production, and in tissue engineering applications (e.g. as artificial skin). \n",
    "\n",
    "*Execute the code in the cell below to see an interactive 3D model of a short single cellulose chain*"
   ]
  },
  {
   "cell_type": "code",
   "execution_count": 4,
   "id": "deluxe-freedom",
   "metadata": {},
   "outputs": [
    {
     "data": {
      "application/vnd.jupyter.widget-view+json": {
       "model_id": "d36cd04fe1c8445f891a1a0f8065c26e",
       "version_major": 2,
       "version_minor": 0
      },
      "text/plain": [
       "NGLWidget()"
      ]
     },
     "metadata": {},
     "output_type": "display_data"
    }
   ],
   "source": [
    "cellulose = nglview.show_file(\"cellulose.pdb\")\n",
    "cellulose.add_surface(opacity=0.1)\n",
    "cellulose"
   ]
  },
  {
   "cell_type": "code",
   "execution_count": 22,
   "id": "naughty-zealand",
   "metadata": {},
   "outputs": [
    {
     "data": {
      "application/vnd.jupyter.widget-view+json": {
       "model_id": "7a0c0b5f12e54369a6761d5bd17e3a12",
       "version_major": 2,
       "version_minor": 0
      },
      "text/plain": [
       "NGLWidget()"
      ]
     },
     "metadata": {},
     "output_type": "display_data"
    }
   ],
   "source": [
    "chitin = nglview.show_file(\"chitin.pdb\")\n",
    "chitin.add_surface(opacity=0.1)\n",
    "chitin"
   ]
  },
  {
   "cell_type": "code",
   "execution_count": 52,
   "id": "durable-alpha",
   "metadata": {},
   "outputs": [
    {
     "data": {
      "image/png": "[encoded data removed]",
      "text/plain": [
       "<Figure size 432x288 with 1 Axes>"
      ]
     },
     "metadata": {
      "needs_background": "light"
     },
     "output_type": "display_data"
    }
   ],
   "source": [
    "import numpy as np\n",
    "import matplotlib.pyplot as plt\n",
    "\n",
    "def HH(pH,pKa):\n",
    "    return 1 - 10**(pH-pKa)/(1+10**(pH-pKa))\n",
    "\n",
    "\n",
    "pKa = 6.5\n",
    "\n",
    "pH = np.linspace(0,14,num=50)\n",
    "\n",
    "plt.plot(pH,HH(pH,pKa))\n",
    "plt.vlines(pKa,-0.05,1.05,linestyles='dashed',alpha=0.8, label='pKa')\n",
    "plt.ylim(-0.05,1.05)\n",
    "plt.xlim(0,14)\n",
    "plt.xlabel('pH', fontsize=14)\n",
    "plt.ylabel('Protonated fraction', fontsize=14)\n",
    "plt.tight_layout()\n",
    "plt.legend()\n",
    "plt.grid()\n",
    "plt.show()"
   ]
  },
  {
   "cell_type": "markdown",
   "id": "caring-bubble",
   "metadata": {},
   "source": [
    "#### References\n",
    "* Nelson, D. L., & Cox, M. M. (2017). Lehninger principles of biochemistry (7th ed.). W.H. Freeman. \n",
    "* Pereira et al (2006) Conformational and Dynamical Properties of Disaccharides in Water: a Molecular Dynamics Study. *Biophysical Journal*. 90:4337-4344 https://doi.org/10.1529/biophysj.106.081539\n",
    "* Polys Glycan Builder: A user friendly tool to build 3D structures of complex glycans and polysaccharides. *CNRS*. Available online at http://glycan-builder.cermav.cnrs.fr/\n",
    "* \"Structure and Function of Carbohydrates\" *Lumen Learning*. Available online at https://courses.lumenlearning.com/ivytech-bio1-1/chapter/reading-types-of-carbohydrates/ [accessed 09.05.2021]\n",
    "* \"Dextran\" *Sigma-Aldrich*. Available online at https://www.sigmaaldrich.com/technical-documents/protocols/biology/dextran.html [accessed 09.05.21]"
   ]
  },
  {
   "cell_type": "code",
   "execution_count": null,
   "id": "welsh-router",
   "metadata": {},
   "outputs": [],
   "source": []
  }
 ],
 "metadata": {
  "kernelspec": {
   "display_name": "Python 3",
   "language": "python",
   "name": "python3"
  },
  "language_info": {
   "codemirror_mode": {
    "name": "ipython",
    "version": 3
   },
   "file_extension": ".py",
   "mimetype": "text/x-python",
   "name": "python",
   "nbconvert_exporter": "python",
   "pygments_lexer": "ipython3",
   "version": "3.7.9"
  }
 },
 "nbformat": 4,
 "nbformat_minor": 5
}
