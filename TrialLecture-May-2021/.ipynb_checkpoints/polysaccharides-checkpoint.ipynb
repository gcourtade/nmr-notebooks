{
 "cells": [
  {
   "attachments": {
    "image.png": {
     "image/png": "[encoded data removed]"
    }
   },
   "cell_type": "markdown",
   "id": "literary-template",
   "metadata": {},
   "source": [
    "## Jupyter Notebook\n",
    "\n",
    "This is a Python Jupyter Notebook. It allows to execute code as well as intereactive content like images, plots and molecule visualization. To use this notebook, you can execute the code on each \"cell\" by clicking the \"Run\" button: ![image.png](attachment:image.png)"
   ]
  },
  {
   "cell_type": "markdown",
   "id": "heated-diagnosis",
   "metadata": {},
   "source": [
    "# Polysaccharides\n",
    "\n",
    "In order to follow this lecture, basic knowledge of carbohydrates (e.g. from a subject like **TBT4102 Biochemistry 1**) is required. If you need to, you can review these concepts here: https://courses.lumenlearning.com/ivytech-bio1-1/chapter/reading-types-of-carbohydrates/\n",
    "\n",
    "Polysaccharides (poly=many; saccharides=sugars) are polymers of monosaccharides. In nature, monosaccharides like glucose are bound together by enzymes, forming  sugar polymers, or polysaccharides.\n",
    "\n",
    "Depending on how the -OH attacks (green arrow) the carbonyl group (from the top or from the bottom) during the sugar ring formation of e.g. glucose, two anomers $\\alpha$ or $\\beta$ may be produced. This is important because, as we will see later, polysaccharides of different anomers have different structures and functional properties.\n",
    "\n",
    "In addition to different anomeric forms, polysaccharides can be formed by joining together different carbon positions. This is what 1&rarr;4 and 1&rarr;6 mean in the figure below.\n",
    "\n",
    "You can use this notebook to familiarize yourself with examples of four polysaccharides: amylose, dextran, cellulose and chitin. Their monosaccharide building blocks and interactive 3D models are presented. Information about their most common engineering applications is also provided."
   ]
  },
  {
   "attachments": {},
   "cell_type": "markdown",
   "id": "expressed-final",
   "metadata": {},
   "source": [
    "![polysaccharides.png](polysaccharides.png)"
   ]
  },
  {
   "cell_type": "markdown",
   "id": "special-above",
   "metadata": {},
   "source": [
    "### Amylose \n",
    "Amylose is a polymer of $\\alpha$(1&rarr;4) bound glucose units. This type of bond between the glucse units gives amylose a helical structure\n",
    "\n",
    "The natural function of amylose is energy storage in plants in the form of starch (together with the polysaccharide amylopectin). The helical structure allows for high compaction of the sugar chain, minimizing the space needed by the plant cell to store energy.\n",
    "\n",
    "Industrially and in food applications, amylose is used as a thickener, water binder, emulsion stabilizer, and gelling agent.\n",
    "\n",
    "*Execute the code in the cell below to see an interactive 3D model of amylose*"
   ]
  },
  {
   "cell_type": "code",
   "execution_count": 23,
   "id": "adjusted-cisco",
   "metadata": {},
   "outputs": [
    {
     "data": {
      "application/vnd.jupyter.widget-view+json": {
       "model_id": "7864805b98ea4c0f8d72c26493336172",
       "version_major": 2,
       "version_minor": 0
      },
      "text/plain": [
       "NGLWidget()"
      ]
     },
     "metadata": {},
     "output_type": "display_data"
    }
   ],
   "source": [
    "import nglview\n",
    "amylose = nglview.show_file(\"amylose.pdb\")\n",
    "amylose.add_surface(opacity=0.1)\n",
    "amylose"
   ]
  },
  {
   "cell_type": "code",
   "execution_count": 20,
   "id": "short-burner",
   "metadata": {},
   "outputs": [
    {
     "data": {
      "application/vnd.jupyter.widget-view+json": {
       "model_id": "fe18ca9bfd9541998ae3e877119ea906",
       "version_major": 2,
       "version_minor": 0
      },
      "text/plain": [
       "NGLWidget()"
      ]
     },
     "metadata": {},
     "output_type": "display_data"
    }
   ],
   "source": [
    "dextran = nglview.show_file(\"dextran.pdb\")\n",
    "dextran.add_surface(opacity=0.1)\n",
    "dextran"
   ]
  },
  {
   "cell_type": "code",
   "execution_count": 12,
   "id": "dedicated-block",
   "metadata": {},
   "outputs": [
    {
     "data": {
      "application/vnd.jupyter.widget-view+json": {
       "model_id": "04d2ae19409f4fe19054b28b835a36be",
       "version_major": 2,
       "version_minor": 0
      },
      "text/plain": [
       "NGLWidget()"
      ]
     },
     "metadata": {},
     "output_type": "display_data"
    }
   ],
   "source": [
    "amylose = nglview.show_file(\"amylose.pdb\")\n",
    "amylose.add_surface(opacity=0.1)\n",
    "amylose"
   ]
  },
  {
   "cell_type": "code",
   "execution_count": 21,
   "id": "deluxe-freedom",
   "metadata": {},
   "outputs": [
    {
     "data": {
      "application/vnd.jupyter.widget-view+json": {
       "model_id": "cf890383eff64806a1b4dfa545f19c36",
       "version_major": 2,
       "version_minor": 0
      },
      "text/plain": [
       "NGLWidget()"
      ]
     },
     "metadata": {},
     "output_type": "display_data"
    }
   ],
   "source": [
    "cellulose = nglview.show_file(\"cellulose.pdb\")\n",
    "cellulose.add_surface(opacity=0.1)\n",
    "cellulose"
   ]
  },
  {
   "cell_type": "code",
   "execution_count": 22,
   "id": "naughty-zealand",
   "metadata": {},
   "outputs": [
    {
     "data": {
      "application/vnd.jupyter.widget-view+json": {
       "model_id": "7a0c0b5f12e54369a6761d5bd17e3a12",
       "version_major": 2,
       "version_minor": 0
      },
      "text/plain": [
       "NGLWidget()"
      ]
     },
     "metadata": {},
     "output_type": "display_data"
    }
   ],
   "source": [
    "chitin = nglview.show_file(\"chitin.pdb\")\n",
    "chitin.add_surface(opacity=0.1)\n",
    "chitin"
   ]
  }
 ],
 "metadata": {
  "kernelspec": {
   "display_name": "Python 3",
   "language": "python",
   "name": "python3"
  },
  "language_info": {
   "codemirror_mode": {
    "name": "ipython",
    "version": 3
   },
   "file_extension": ".py",
   "mimetype": "text/x-python",
   "name": "python",
   "nbconvert_exporter": "python",
   "pygments_lexer": "ipython3",
   "version": "3.7.9"
  }
 },
 "nbformat": 4,
 "nbformat_minor": 5
}
