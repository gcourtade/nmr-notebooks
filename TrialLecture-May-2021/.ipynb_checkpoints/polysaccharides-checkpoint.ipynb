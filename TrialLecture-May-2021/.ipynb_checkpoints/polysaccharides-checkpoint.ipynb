{
 "cells": [
  {
   "attachments": {
    "image.png": {
     "image/png": "[encoded data removed]"
    }
   },
   "cell_type": "markdown",
   "id": "d4d49999",
   "metadata": {},
   "source": [
    "## Jupyter Notebook\n",
    "\n",
    "This is a Python Jupyter Notebook. It allows to execute code as well as interactive content like images, plots and molecule visualization. To use this notebook, you can execute the code on each \"cell\" by clicking the `►|` button on the top-right corner of the cell, or the \"Run\" button on the toolbar ![image.png](attachment:image.png)"
   ]
  },
  {
   "cell_type": "markdown",
   "id": "995f5300",
   "metadata": {},
   "source": [
    "# Polysaccharides\n",
    "\n",
    "In order to follow this lecture, basic knowledge of carbohydrates (e.g. from a subject like **TBT4102 Biochemistry 1**) is required. In preparation for this lecture, you can refresh your knowledge here https://courses.lumenlearning.com/ivytech-bio1-1/chapter/reading-types-of-carbohydrates/. Below, key concepts are briefly reviewed.\n",
    "\n",
    "Polysaccharides (poly=many; saccharides=sugars) are polymers of monosaccharides. In nature, monosaccharides like glucose are bound together by enzymes, forming  sugar polymers, or polysaccharides. Polysaccharides may be branched or linear, charged or uncharged, and may be composed of one, two, or several different monosaccharides. The molecular weight of a polysaccharide may be on the order of 1000-100,000 Da (g/mol) depending on the monosaccharide residues. \n",
    "\n",
    "<img src='figure_07_12.jpg' width=400/>\n",
    "\n",
    "\n",
    "Depending on how the -OH on C5 attacks (red arrow) the C1 carbonyl group (from the top or from the bottom) during the sugar ring formation of e.g. glucose, two **anomers**, $\\alpha$ or $\\beta$, of the hemiacetal may be produced. As long as the hemiacetal is not part of a glycosidic bond, the reaction is reversible and an interconversion between $\\alpha$ and $\\beta$ anomers occurs. In polysaccharides, the hemiacetal end is  called the **reducing end**.\n",
    "\n",
    "<img src='figure_07_06.jpg' width=400/>\n",
    "\n",
    "Two monosaccharides can be joined together via a **glycosidic bond** between an anomeric carbon and a hydroxyl carbon to form a disaccharide. Disacharides can be named by their anomeric form and linkage or a common name. For example, the disaccharide maltose is formed by joining two glucose units. The -OH (alcohol) attached to C4 of one glucose molecule (right) condenses with the  hemiacetal (anomeric carbon) of the other $\\alpha$-D-glucose molecule (left), with elimination of $H_{2}O$ and formation of a 1&rarr;4 glycosidic bond. The reversal of this reaction is hydrolysis: attack by $H_{2}O$ on the glycosidic bond.\n",
    "\n",
    "<img src='figure_07_10.jpg' width=400/>\n",
    "\n",
    "\n",
    "Addition of more monosaccharides to the chain results in polysaccharides. In this notebook there are examples of four polysaccharides: amylose, dextran, cellulose and chitin. Information is included about their structural properties, as well as natural and industrial applications. Interactive 3D structural models are provided using Python code."
   ]
  },
  {
   "cell_type": "markdown",
   "id": "d84f177b",
   "metadata": {},
   "source": [
    "### Amylose \n",
    "\n",
    "Amylose is linear, uncharged, homopolymer polymer composed of $\\alpha$(1&rarr;4)-bound glucose units. This type of bond between the glucose units gives amylose a helical structure\n",
    "\n",
    "\n",
    "<img src='figure_07_13a.jpg' width=600/>\n",
    "\n",
    "The natural function of amylose is energy storage in plants in the form of starch (together with the polysaccharide amylopectin). Starch is stored in for example roots and seeds. The helical structure allows for high compaction of the sugar chain, minimizing the space needed by the plant cell to store energy. When consumed by animals and humans, starch is broken down by enzymes ($\\alpha$-amylases).\n",
    "\n",
    "Industrially and in food applications, amylose is used as a thickener, water binder, emulsion stabilizer, and gelling agent.\n",
    "\n",
    "*Execute the code in the cell below to see an interactive 3D model of a short amylose chain*"
   ]
  },
  {
   "cell_type": "code",
   "execution_count": 1,
   "id": "086a3539",
   "metadata": {},
   "outputs": [
    {
     "data": {
      "application/vnd.jupyter.widget-view+json": {
       "model_id": "6505a70445b3449c89aa6e8d863f8a1f",
       "version_major": 2,
       "version_minor": 0
      },
      "text/plain": []
     },
     "metadata": {},
     "output_type": "display_data"
    },
    {
     "data": {
      "application/vnd.jupyter.widget-view+json": {
       "model_id": "232f16ea57264c5f88730beaf4582a5e",
       "version_major": 2,
       "version_minor": 0
      },
      "text/plain": [
       "NGLWidget()"
      ]
     },
     "metadata": {},
     "output_type": "display_data"
    }
   ],
   "source": [
    "import nglview\n",
    "amylose = nglview.show_file(\"amylose.pdb\")\n",
    "amylose.add_surface(opacity=0.1)\n",
    "amylose"
   ]
  },
  {
   "cell_type": "markdown",
   "id": "6be6e4af",
   "metadata": {},
   "source": [
    "### Dextran \n",
    "\n",
    "Dextran is a branched, uncharged homopolymer of glucose. Its backbone is composed of ca. 95% $\\alpha$(1&rarr;6) linkages, with $\\alpha$(1&rarr;3) branches. \n",
    "\n",
    "<img src='specific-rotation.jpg' width=400/>\n",
    "\n",
    "In bacteria, dextran is a structural polysaccharide and it also acts an as an extracellular \"glue\". Industrially, dextran has several biomedical applications as plasma extenders to prevent post-operative blood clots, and to enhance the precipitation of antibody-antigen complexes in immuno-diffusion applications, among others.\n",
    "\n",
    "*Execute the code in the cell below to see an interactive 3D model of a short dextran chain with single residue branches*"
   ]
  },
  {
   "cell_type": "code",
   "execution_count": 2,
   "id": "2c7a11c6",
   "metadata": {},
   "outputs": [
    {
     "data": {
      "application/vnd.jupyter.widget-view+json": {
       "model_id": "4645364362a84704939c7d092afa6c4e",
       "version_major": 2,
       "version_minor": 0
      },
      "text/plain": [
       "NGLWidget()"
      ]
     },
     "metadata": {},
     "output_type": "display_data"
    }
   ],
   "source": [
    "dextran = nglview.show_file(\"dextran.pdb\")\n",
    "dextran.add_surface(opacity=0.1)\n",
    "dextran"
   ]
  },
  {
   "cell_type": "markdown",
   "id": "2f5b79b2",
   "metadata": {},
   "source": [
    "### Cellulose \n",
    "\n",
    "Cellulose is a linear, uncharged homopolysaccharide of $\\beta$(1&rarr;4)-linked glucose units. Hydrogen bonds between adjacent monomers and additional hydrogen bonds between individual cellulose chains results in a tough and water insoluble structure.\n",
    "\n",
    "<img src='cellulose.jpg' width=500/>\n",
    "\n",
    "Cellulose is synthesized by plants, algae and some bacteria, and is the most abundant polysaccharide in nature. It has a key structural role in stabilizing the cell walls of plants and in biofilm formation in bacteria.\n",
    "\n",
    "Engineering applications of cellulose are plentiful and diverse. These include manufacturing of clothing (cotton is nearly pure fibrous cellulose) and paper, as a substrate for second generation bioethanol production, and in tissue engineering applications (e.g. as artificial skin). \n",
    "\n",
    "*Execute the code in the cell below to see an interactive 3D model of a short single cellulose chain*"
   ]
  },
  {
   "cell_type": "code",
   "execution_count": 3,
   "id": "b99dd056",
   "metadata": {},
   "outputs": [
    {
     "data": {
      "application/vnd.jupyter.widget-view+json": {
       "model_id": "02b2f988a37645a68114467947c30b34",
       "version_major": 2,
       "version_minor": 0
      },
      "text/plain": [
       "NGLWidget()"
      ]
     },
     "metadata": {},
     "output_type": "display_data"
    }
   ],
   "source": [
    "cellulose = nglview.show_file(\"cellulose.pdb\")\n",
    "cellulose.add_surface(opacity=0.1)\n",
    "cellulose"
   ]
  },
  {
   "cell_type": "markdown",
   "id": "acfff57f",
   "metadata": {},
   "source": [
    "### Chitin \n",
    "\n",
    "Chitin is a linear, uncharged homopolysaccharide of $\\beta$(1&rarr;4)-linked N-acetylglucosamine units. Chitin forms extended fibers that are similar to those of cellulose. Like cellulose, its structure is tough but flexible, and water insolbule.\n",
    "\n",
    "<img src='figure_07_16a.jpg' width=500/>\n",
    "\n",
    "In nature, chitin has a structural role and is found in the cell walls of mushrooms, and in the exoskeletons of insects, spiders, crabs and other arthropods. \n",
    "\n",
    "Chitin is used in a wide range of biomedical applications such as tissue engineering, drug and gene delivery, wound healing, and stem cell technology. \n",
    "\n",
    "*Execute the code in the cell below to see an interactive 3D model of a short single chitin chain*"
   ]
  },
  {
   "cell_type": "code",
   "execution_count": 4,
   "id": "806ca631",
   "metadata": {},
   "outputs": [
    {
     "data": {
      "application/vnd.jupyter.widget-view+json": {
       "model_id": "d81a0494a20c43449a3d6a4eb77c90ed",
       "version_major": 2,
       "version_minor": 0
      },
      "text/plain": [
       "NGLWidget()"
      ]
     },
     "metadata": {},
     "output_type": "display_data"
    }
   ],
   "source": [
    "chitin = nglview.show_file(\"chitin.pdb\")\n",
    "chitin.add_surface(opacity=0.1)\n",
    "chitin"
   ]
  },
  {
   "cell_type": "markdown",
   "id": "3cdc0610",
   "metadata": {},
   "source": [
    "### Reflection and own summary\n",
    "\n",
    "<img src='sizes.png' style='float:right;'/>\n",
    "\n",
    "After having gone through the examples and this additional figure, think about the following question.\n",
    "\n",
    "*How does the type of glycosidic bond linkage affect the structure of polysaccharides?*\n",
    "\n",
    "You may write down your own notes and reflections about this notebook by (1) inserting a new cell bellow (`Insert > Insert Cell Below`) and (2) changing the cell type to Markdown (`Cell > Cell Type > Markdown`). Remember to download the notebook (`File > Download as > PDF via LaTex`) to keep your notes. \n",
    "\n",
    "\n",
    "\n"
   ]
  },
  {
   "cell_type": "markdown",
   "id": "f7b473e8",
   "metadata": {},
   "source": [
    "#### References\n",
    "* Nelson, D. L., & Cox, M. M. (2017). Lehninger principles of biochemistry (7th ed.). W.H. Freeman. \n",
    "* Pereira et al (2006) Conformational and Dynamical Properties of Disaccharides in Water: a Molecular Dynamics Study. *Biophysical Journal*. 90:4337-4344 https://doi.org/10.1529/biophysj.106.081539\n",
    "* Polys Glycan Builder: A user friendly tool to build 3D structures of complex glycans and polysaccharides. *CNRS*. Available online at http://glycan-builder.cermav.cnrs.fr/\n",
    "* \"Structure and Function of Carbohydrates\" *Lumen Learning*. Available online at https://courses.lumenlearning.com/ivytech-bio1-1/chapter/reading-types-of-carbohydrates/ [accessed 09.05.2021]\n",
    "* \"Dextran\" *Sigma-Aldrich*. Available online at https://www.sigmaaldrich.com/technical-documents/protocols/biology/dextran.html [accessed 09.05.21]"
   ]
  }
 ],
 "metadata": {
  "kernelspec": {
   "display_name": "Python 3",
   "language": "python",
   "name": "python3"
  },
  "language_info": {
   "codemirror_mode": {
    "name": "ipython",
    "version": 3
   },
   "file_extension": ".py",
   "mimetype": "text/x-python",
   "name": "python",
   "nbconvert_exporter": "python",
   "pygments_lexer": "ipython3",
   "version": "3.9.4"
  }
 },
 "nbformat": 4,
 "nbformat_minor": 5
}
